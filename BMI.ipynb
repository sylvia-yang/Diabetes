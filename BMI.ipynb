{
 "cells": [
  {
   "cell_type": "code",
   "execution_count": 7,
   "metadata": {},
   "outputs": [],
   "source": [
    "#STEP 1: Prepare data (import libraries, load the data, and clean the data)\n",
    "\n",
    "#Import the libraries\n",
    "from sklearn import datasets\n"
   ]
  },
  {
   "cell_type": "code",
   "execution_count": 8,
   "metadata": {},
   "outputs": [
    {
     "name": "stdout",
     "output_type": "stream",
     "text": [
      ".. _diabetes_dataset:\n",
      "\n",
      "Diabetes dataset\n",
      "----------------\n",
      "\n",
      "Ten baseline variables, age, sex, body mass index, average blood\n",
      "pressure, and six blood serum measurements were obtained for each of n =\n",
      "442 diabetes patients, as well as the response of interest, a\n",
      "quantitative measure of disease progression one year after baseline.\n",
      "\n",
      "**Data Set Characteristics:**\n",
      "\n",
      "  :Number of Instances: 442\n",
      "\n",
      "  :Number of Attributes: First 10 columns are numeric predictive values\n",
      "\n",
      "  :Target: Column 11 is a quantitative measure of disease progression one year after baseline\n",
      "\n",
      "  :Attribute Information:\n",
      "      - age     age in years\n",
      "      - sex\n",
      "      - bmi     body mass index\n",
      "      - bp      average blood pressure\n",
      "      - s1      tc, T-Cells (a type of white blood cells)\n",
      "      - s2      ldl, low-density lipoproteins\n",
      "      - s3      hdl, high-density lipoproteins\n",
      "      - s4      tch, thyroid stimulating hormone\n",
      "      - s5      ltg, lamotrigine\n",
      "      - s6      glu, blood sugar level\n",
      "\n",
      "Note: Each of these 10 feature variables have been mean centered and scaled by the standard deviation times `n_samples` (i.e. the sum of squares of each column totals 1).\n",
      "\n",
      "Source URL:\n",
      "https://www4.stat.ncsu.edu/~boos/var.select/diabetes.html\n",
      "\n",
      "For more information see:\n",
      "Bradley Efron, Trevor Hastie, Iain Johnstone and Robert Tibshirani (2004) \"Least Angle Regression,\" Annals of Statistics (with discussion), 407-499.\n",
      "(https://web.stanford.edu/~hastie/Papers/LARS/LeastAngle_2002.pdf)\n"
     ]
    }
   ],
   "source": [
    "#Load the dataset\n",
    "#This diabetes dataset is a built-in dataset in sklearn\n",
    "diabetes = datasets.load_diabetes()\n",
    "print(diabetes.DESCR)\n"
   ]
  },
  {
   "cell_type": "code",
   "execution_count": 9,
   "metadata": {},
   "outputs": [
    {
     "name": "stdout",
     "output_type": "stream",
     "text": [
      "['age', 'sex', 'bmi', 'bp', 's1', 's2', 's3', 's4', 's5', 's6']\n"
     ]
    }
   ],
   "source": [
    "#Print feature names\n",
    "print(diabetes.feature_names)\n"
   ]
  },
  {
   "cell_type": "code",
   "execution_count": 10,
   "metadata": {},
   "outputs": [],
   "source": [
    "#Define x and y variables\n",
    "x = diabetes.data\n",
    "y = diabetes.target"
   ]
  },
  {
   "cell_type": "code",
   "execution_count": 11,
   "metadata": {},
   "outputs": [
    {
     "data": {
      "text/plain": [
       "((442, 10), (442,))"
      ]
     },
     "execution_count": 11,
     "metadata": {},
     "output_type": "execute_result"
    }
   ],
   "source": [
    "#check their dimension\n",
    "x.shape, y.shape"
   ]
  },
  {
   "cell_type": "code",
   "execution_count": 12,
   "metadata": {},
   "outputs": [],
   "source": [
    "#STEP 2: Split the data into training dataset (80%) and testing dataset (20%)\n",
    "from sklearn.model_selection import train_test_split\n",
    "x_train, x_test, y_train, y_test =train_test_split(x,y,test_size=0.2)\n"
   ]
  },
  {
   "cell_type": "code",
   "execution_count": 13,
   "metadata": {},
   "outputs": [
    {
     "data": {
      "text/plain": [
       "((353, 10), (353,))"
      ]
     },
     "execution_count": 13,
     "metadata": {},
     "output_type": "execute_result"
    }
   ],
   "source": [
    "#check the dimensions of training set\n",
    "x_train.shape, y_train.shape"
   ]
  },
  {
   "cell_type": "code",
   "execution_count": 14,
   "metadata": {},
   "outputs": [
    {
     "data": {
      "text/plain": [
       "((89, 10), (89,))"
      ]
     },
     "execution_count": 14,
     "metadata": {},
     "output_type": "execute_result"
    }
   ],
   "source": [
    "#check the dimensions of testing set\n",
    "x_test.shape , y_test.shape"
   ]
  },
  {
   "cell_type": "code",
   "execution_count": 15,
   "metadata": {},
   "outputs": [],
   "source": [
    "#STEP 3: Build the model\n",
    "#Import libraries\n",
    "from sklearn.linear_model import LinearRegression\n",
    "from sklearn.metrics import mean_squared_error, r2_score\n",
    "\n",
    "model = LinearRegression()"
   ]
  },
  {
   "cell_type": "code",
   "execution_count": 16,
   "metadata": {},
   "outputs": [
    {
     "data": {
      "text/plain": [
       "LinearRegression()"
      ]
     },
     "execution_count": 16,
     "metadata": {},
     "output_type": "execute_result"
    }
   ],
   "source": [
    "#STEP 4: Fit the model to train data\n",
    "model.fit(x_train, y_train)"
   ]
  },
  {
   "cell_type": "code",
   "execution_count": 21,
   "metadata": {},
   "outputs": [],
   "source": [
    "#Apply the training model to make prediction on the testing set\n",
    "y_predict = model.predict(x_test)"
   ]
  },
  {
   "cell_type": "code",
   "execution_count": 18,
   "metadata": {},
   "outputs": [
    {
     "name": "stdout",
     "output_type": "stream",
     "text": [
      "The coefficient for our model is: [ -39.98976494 -259.16701933  515.12539283  354.74630082 -763.88312437\n",
      "  497.8832709    84.02108255  112.11889877  790.59509398   60.66043255]\n",
      "The intercept for our model is: 151.5968893989827\n",
      "Mean Squared Error (MSE) is: 3559.22\n",
      "R^2 is: 0.40\n"
     ]
    }
   ],
   "source": [
    "#Print the model performance\n",
    "print(\"The coefficient for our model is:\", model.coef_)\n",
    "print(\"The intercept for our model is:\", model.intercept_)\n",
    "print(\"Mean Squared Error (MSE) is: %.2f\" % mean_squared_error(y_test,y_predict))\n",
    "print(\"R^2 is: %.2f\" % r2_score(y_test, y_predict))"
   ]
  },
  {
   "cell_type": "code",
   "execution_count": 19,
   "metadata": {},
   "outputs": [
    {
     "name": "stdout",
     "output_type": "stream",
     "text": [
      "['age', 'sex', 'bmi', 'bp', 's1', 's2', 's3', 's4', 's5', 's6']\n"
     ]
    }
   ],
   "source": [
    "print(diabetes.feature_names)"
   ]
  },
  {
   "cell_type": "markdown",
   "metadata": {},
   "source": [
    "### y = -13.85*(age)-215.216*(sex)+523.072*(bmi)+346.584*(bp)-983.914*(s1)+539.403*(s2)+186.943*(s3)+266.342*(s4)+818.697*(s5)+31.08478(s6)"
   ]
  },
  {
   "cell_type": "code",
   "execution_count": 22,
   "metadata": {},
   "outputs": [
    {
     "data": {
      "text/plain": [
       "array([235.,  61.,  73., 221., 214., 172.,  77.,  85., 288.,  78., 137.,\n",
       "       113.,  93., 346.,  88., 104., 268., 128., 142., 206., 151.,  77.,\n",
       "       277., 150.,  55.,  90.,  52., 104., 131.,  42.,  57., 252.,  58.,\n",
       "       200., 109.,  51., 147., 265., 108.,  87., 262.,  95., 341., 104.,\n",
       "       135., 245., 202., 171., 101., 150.,  71., 113.,  64., 161.,  68.,\n",
       "       125.,  71., 264., 215., 111., 196., 123.,  72., 110., 199., 138.,\n",
       "       261.,  65., 200., 175., 118.,  99.,  90., 283.,  59., 181., 170.,\n",
       "        39., 274., 120.,  89., 252.,  48., 138., 237.,  77.,  71.,  50.,\n",
       "       253.])"
      ]
     },
     "execution_count": 22,
     "metadata": {},
     "output_type": "execute_result"
    }
   ],
   "source": [
    "y_test"
   ]
  },
  {
   "cell_type": "code",
   "execution_count": 23,
   "metadata": {},
   "outputs": [
    {
     "data": {
      "text/plain": [
       "array([173.18610983, 143.41426412, 155.02007427, 204.82771894,\n",
       "       133.31075305, 145.31222289, 169.20351215,  58.64590391,\n",
       "       207.89583952, 123.21849136,  98.53723522, 160.52788576,\n",
       "        85.05297639, 266.41869548,  99.62413428,  72.28044276,\n",
       "       222.08397064,  71.20155733, 187.25027662, 162.67374215,\n",
       "       167.1543547 ,  79.55192774, 171.44087232, 202.65163225,\n",
       "       147.7674242 , 134.48612862,  63.4051544 ,  29.51270876,\n",
       "       195.84138734,  76.38734174,  55.38782945, 154.59243728,\n",
       "       163.18489341, 115.60101735, 163.71656501,  71.29194601,\n",
       "       175.07293635, 201.2125352 , 103.68170286, 111.44881723,\n",
       "       156.46048827, 148.81113441, 251.97491627, 159.59917952,\n",
       "       128.99894045, 162.01738283, 145.13704685, 179.93176836,\n",
       "        99.05783152, 125.79676105, 109.79462413, 123.34258018,\n",
       "       117.93652185, 188.10684644, 115.6887282 , 100.39727332,\n",
       "        83.39463869, 240.84335911, 249.95143746, 108.20008408,\n",
       "       167.7556755 , 198.31923861, 109.26562269, 163.28566621,\n",
       "       103.14704662,  72.16323229, 232.83817072, 126.24818979,\n",
       "        75.89919664, 189.56806651, 102.72397591, 231.44152766,\n",
       "       182.29370402, 197.9158964 , 122.46258645,  81.97379241,\n",
       "       105.87415655,  67.56476044, 249.06046716, 162.34658681,\n",
       "        73.1108783 , 166.57386608,  72.65225285, 171.06955597,\n",
       "       223.57334593,  74.22487809, 107.88823894, 140.08930535,\n",
       "       120.97827158])"
      ]
     },
     "execution_count": 23,
     "metadata": {},
     "output_type": "execute_result"
    }
   ],
   "source": [
    "y_predict\n"
   ]
  },
  {
   "cell_type": "code",
   "execution_count": 24,
   "metadata": {
    "scrolled": true
   },
   "outputs": [
    {
     "data": {
      "text/plain": [
       "<matplotlib.collections.PathCollection at 0x10908f63190>"
      ]
     },
     "execution_count": 24,
     "metadata": {},
     "output_type": "execute_result"
    },
    {
     "data": {
      "image/png": "[encoded data removed]",
      "text/plain": [
       "<Figure size 432x288 with 1 Axes>"
      ]
     },
     "metadata": {
      "needs_background": "light"
     },
     "output_type": "display_data"
    }
   ],
   "source": [
    "#Make the scatter plot\n",
    "import matplotlib.pyplot as plt\n",
    "plt.scatter(y_test, y_predict, marker=\"d\", alpha=0.5)"
   ]
  }
 ],
 "metadata": {
  "kernelspec": {
   "display_name": "Python 3",
   "language": "python",
   "name": "python3"
  },
  "language_info": {
   "codemirror_mode": {
    "name": "ipython",
    "version": 3
   },
   "file_extension": ".py",
   "mimetype": "text/x-python",
   "name": "python",
   "nbconvert_exporter": "python",
   "pygments_lexer": "ipython3",
   "version": "3.8.5"
  }
 },
 "nbformat": 4,
 "nbformat_minor": 4
}
